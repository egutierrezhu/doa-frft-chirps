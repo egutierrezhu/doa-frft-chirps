{
 "cells": [
  {
   "cell_type": "markdown",
   "id": "f3bba500",
   "metadata": {},
   "source": [
    "# DoA Estimation for Wideband Chirps in FrFT Domain #\n",
    "<p>v1.0 2025</p>\n",
    "\n",
    "__By__ Eulogio Gutierrez Huampo"
   ]
  },
  {
   "cell_type": "code",
   "execution_count": 1,
   "id": "e9dd4660",
   "metadata": {},
   "outputs": [],
   "source": [
    "import numpy as np\n",
    "import matplotlib.pyplot as plt\n",
    "\n",
    "import scipy.signal as ss\n",
    "from numpy import pi,cos,sin,sqrt\n",
    "\n",
    "import sys\n",
    "sys.path.append('./src')\n",
    "import doa_utils as DoA"
   ]
  },
  {
   "cell_type": "code",
   "execution_count": 2,
   "id": "c6875fac",
   "metadata": {},
   "outputs": [],
   "source": [
    "import ipywidgets as widgets\n",
    "from IPython.display import display\n",
    "\n",
    "# Dropdown menu to select mode\n",
    "mode_selector = widgets.Dropdown(\n",
    "    options=['dfrft', 'dsmfrft'],\n",
    "    value='dsmfrft',\n",
    "    description='Operator:',\n",
    ")"
   ]
  },
  {
   "cell_type": "markdown",
   "id": "a2e6d0f7",
   "metadata": {},
   "source": [
    "### Signal Modeling"
   ]
  },
  {
   "cell_type": "markdown",
   "id": "93d1b7f7",
   "metadata": {},
   "source": [
    "__Time axis__"
   ]
  },
  {
   "cell_type": "code",
   "execution_count": 3,
   "id": "e7a9d177",
   "metadata": {},
   "outputs": [],
   "source": [
    "L_sig = 5e-6 # Duration of signal\n",
    "N = 1024 # Number of snapshots\n",
    "fs = N/L_sig # sampling rate\n",
    "no = N//2 # index of tt=0\n",
    "tt = np.arange(-no,-no+N)/float(fs) # time axis"
   ]
  },
  {
   "cell_type": "markdown",
   "id": "9be755f1",
   "metadata": {},
   "source": [
    "__Multi-component linear frequency-modulated (LFM) signal__"
   ]
  },
  {
   "cell_type": "code",
   "execution_count": 4,
   "id": "8a10d63c",
   "metadata": {},
   "outputs": [],
   "source": [
    "fc_list = 1e6 * np.array([10, 15, 20]) # center frequencies\n",
    "B = 20e6 # bandwidth\n",
    "mu_list = np.tile(B/L_sig, len(fc_list)) # chirp rates"
   ]
  },
  {
   "cell_type": "markdown",
   "id": "c2080149",
   "metadata": {},
   "source": [
    "__Uniform linear array (ULA)__ "
   ]
  },
  {
   "cell_type": "code",
   "execution_count": 5,
   "id": "ccee6757",
   "metadata": {},
   "outputs": [],
   "source": [
    "c = 3e8 # light speed, m/s\n",
    "f2 = np.max(fc_list)+B/2 # highest frequency\n",
    "lam = c/f2 # wavelength\n",
    "d = lam/2 # adjacency distance\n",
    "M = 41 # Number of array elements\n",
    "mo = M//2 # index of ula=0\n",
    "ula = d*np.arange(-mo,-mo+M) # ULA"
   ]
  },
  {
   "cell_type": "markdown",
   "id": "05e3ff32",
   "metadata": {},
   "source": [
    "__Received signals__"
   ]
  },
  {
   "cell_type": "code",
   "execution_count": 6,
   "id": "7369d7da",
   "metadata": {},
   "outputs": [],
   "source": [
    "doa_list = [-40, 20, 40]  # True DOAs, degrees\n",
    "snr = -10 # signal to noise ratio\n",
    "received_signals = DoA.output_signal_ULA(tt,fc_list,mu_list,ula,\n",
    "                                         np.radians(doa_list),snr,c)"
   ]
  },
  {
   "cell_type": "markdown",
   "id": "19451ad7",
   "metadata": {},
   "source": [
    "### Preprocessing"
   ]
  },
  {
   "cell_type": "code",
   "execution_count": 7,
   "id": "3490dad4",
   "metadata": {},
   "outputs": [
    {
     "data": {
      "application/vnd.jupyter.widget-view+json": {
       "model_id": "c907f2850834449f9b8312316f5c872b",
       "version_major": 2,
       "version_minor": 0
      },
      "text/plain": [
       "Dropdown(description='Operator:', index=1, options=('dfrft', 'dsmfrft'), value='dsmfrft')"
      ]
     },
     "metadata": {},
     "output_type": "display_data"
    }
   ],
   "source": [
    "# Display the dropdown and button\n",
    "display(mode_selector)"
   ]
  },
  {
   "cell_type": "markdown",
   "id": "f5b6785e",
   "metadata": {},
   "source": [
    "__Optmal fractional order__"
   ]
  },
  {
   "cell_type": "code",
   "execution_count": 8,
   "id": "af4d0bde",
   "metadata": {},
   "outputs": [
    {
     "name": "stdout",
     "output_type": "stream",
     "text": [
      "Optmal fractional order: 1.0619733900739727\n"
     ]
    }
   ],
   "source": [
    "cot_alpha = B/L_sig * N/fs**2 # cot(aOP*pi/2) \n",
    "if cot_alpha==0: # Avoid division by zero\n",
    "    aOP = 1.0\n",
    "else:    \n",
    "    aOP = (2/pi)*(pi-np.arctan(1/cot_alpha))    \n",
    "print(f\"Optmal fractional order: {aOP}\")"
   ]
  },
  {
   "cell_type": "markdown",
   "id": "c90aa592",
   "metadata": {},
   "source": [
    "__Peak indices at reference sensor__"
   ]
  },
  {
   "cell_type": "code",
   "execution_count": 9,
   "id": "51e87fc1",
   "metadata": {},
   "outputs": [
    {
     "name": "stdout",
     "output_type": "stream",
     "text": [
      "Peak indices:  [562. 587. 612.]\n"
     ]
    }
   ],
   "source": [
    "op = mode_selector.value\n",
    "if op=='dfrft':\n",
    "    qOP = np.round(fc_list*L_sig*np.sin(aOP*pi/2))   \n",
    "elif op=='dsmfrft':\n",
    "    qOP = np.round(fc_list*L_sig)\n",
    "else:\n",
    "    raise Warning(\"Invalid operator!\") \n",
    "print('Peak indices: ',qOP+N//2)      "
   ]
  },
  {
   "cell_type": "markdown",
   "id": "74db7a9b",
   "metadata": {},
   "source": [
    "### Multi-target direction-of-arrival (DoA) estimation"
   ]
  },
  {
   "cell_type": "markdown",
   "id": "87b576e5",
   "metadata": {},
   "source": [
    "__Piecewise linear regression__"
   ]
  },
  {
   "cell_type": "code",
   "execution_count": 10,
   "id": "eb5595a3",
   "metadata": {},
   "outputs": [
    {
     "data": {
      "image/png": "[encoded data removed]",
      "text/plain": [
       "<Figure size 360x288 with 1 Axes>"
      ]
     },
     "metadata": {
      "needs_background": "light"
     },
     "output_type": "display_data"
    }
   ],
   "source": [
    "# Example Usage\n",
    "K = 3  # Number of lines to fit\n",
    "y,x = DoA.multi_peaks_ULA(received_signals,tt,ula,aOP,qOP,op,c)\n",
    "models, segments = DoA.fit_k_lines(x, y, K)\n",
    "DoA.plot_results_line_fitting(x, y, models, segments)"
   ]
  },
  {
   "cell_type": "code",
   "execution_count": 11,
   "id": "b82803ea",
   "metadata": {},
   "outputs": [
    {
     "name": "stdout",
     "output_type": "stream",
     "text": [
      "True DOAs: [-40, 20, 40]\n",
      "Estimated DOAs (Line Fitting): [-39.91  20.36  41.11]\n"
     ]
    }
   ],
   "source": [
    "doa_plf_list = []\n",
    "for i in range(K):\n",
    "    slope, intercept = models[i]\n",
    "    doa = DoA.doa_line_fitting(fs,d,1.0/slope,aOP,op,c)\n",
    "    doa_plf_list.append(doa*180/pi)\n",
    "doa_plf = np.sort(doa_plf_list)    \n",
    "# Display Results\n",
    "print(f\"True DOAs: {doa_list}\")\n",
    "print(f\"Estimated DOAs (Line Fitting): {np.round(doa_plf,2)}\")    "
   ]
  },
  {
   "cell_type": "markdown",
   "id": "43ca222c",
   "metadata": {},
   "source": [
    "__Line detection in Hough space__"
   ]
  },
  {
   "cell_type": "code",
   "execution_count": 12,
   "id": "d8618846",
   "metadata": {},
   "outputs": [
    {
     "data": {
      "image/png": "[encoded data removed]",
      "text/plain": [
       "<Figure size 360x288 with 1 Axes>"
      ]
     },
     "metadata": {
      "needs_background": "light"
     },
     "output_type": "display_data"
    }
   ],
   "source": [
    "K = 3  # Number of lines to detect\n",
    "y,x = DoA.multi_peaks_ULA(received_signals,tt,ula,aOP,qOP,op,c)\n",
    "models, lines = DoA.hough_line_fitting(x, y, K)\n",
    "DoA.plot_results_detected_lines(x, y, models, lines)"
   ]
  },
  {
   "cell_type": "code",
   "execution_count": 13,
   "id": "41ed3820",
   "metadata": {},
   "outputs": [
    {
     "name": "stdout",
     "output_type": "stream",
     "text": [
      "True DOAs: [-40, 20, 40]\n",
      "Estimated DOAs (HT Line Fitting): [-37.98  20.67  39.17]\n"
     ]
    }
   ],
   "source": [
    "doa_ht_list = []\n",
    "for slope, intercept in models:\n",
    "    doa = DoA.doa_line_fitting(fs,d,-1.0/slope,aOP,op,c)\n",
    "    doa_ht_list.append(doa*180/pi)   \n",
    "doa_ht = np.sort(doa_ht_list)    \n",
    "# Display Results\n",
    "print(f\"True DOAs: {doa_list}\")\n",
    "print(f\"Estimated DOAs (HT Line Fitting): {np.round(doa_ht,2)}\")"
   ]
  },
  {
   "cell_type": "markdown",
   "id": "e44e998c",
   "metadata": {},
   "source": [
    "__MUSIC with spatial smoothing and forward-backward averaging__"
   ]
  },
  {
   "cell_type": "code",
   "execution_count": 14,
   "id": "c25e7d2a",
   "metadata": {},
   "outputs": [],
   "source": [
    "Lsub = M//2 # size of subarrays\n",
    "align = True # peak alignment"
   ]
  },
  {
   "cell_type": "code",
   "execution_count": 15,
   "id": "e6a8f8c4",
   "metadata": {},
   "outputs": [
    {
     "data": {
      "image/png": "[encoded data removed]",
      "text/plain": [
       "<Figure size 360x288 with 1 Axes>"
      ]
     },
     "metadata": {
      "needs_background": "light"
     },
     "output_type": "display_data"
    }
   ],
   "source": [
    "# Estimating DOA using MUSIC and FrFT\n",
    "i = 2\n",
    "angles, music_spectrum = DoA.music_frft(tt,received_signals,mo,qOP,d,aOP,Lsub,i,op,align,c)\n",
    "music_spectrum_dB = 10 * np.log10(music_spectrum / np.max(music_spectrum))\n",
    "# Plot MUSIC Spectrum\n",
    "plt.figure(figsize=(5, 4))\n",
    "plt.plot(angles, music_spectrum_dB)\n",
    "plt.title('FBSS-MUSIC Spectrum')\n",
    "plt.xlabel('Angles (degrees)')\n",
    "plt.ylabel('Spatial spectrum (dB)')\n",
    "plt.grid(linestyle= \"--\") \n",
    "plt.show()"
   ]
  },
  {
   "cell_type": "code",
   "execution_count": 16,
   "id": "89a81d29",
   "metadata": {},
   "outputs": [
    {
     "name": "stdout",
     "output_type": "stream",
     "text": [
      "True DOAs: [-40, 20, 40]\n",
      "Estimated DOAs (FBSS-MUSIC): [-18.8   14.79  39.86]\n"
     ]
    }
   ],
   "source": [
    "# Inices of DOA using MUSIC and FrFT\n",
    "idxMUSIC,_= ss.find_peaks(music_spectrum_dB ,height=-10.0, distance=1.5)\n",
    "doa_music = angles[idxMUSIC]\n",
    "# Display Results\n",
    "print(f\"True DOAs: {doa_list}\")\n",
    "print(f\"Estimated DOAs (FBSS-MUSIC): {np.round(doa_music,2)}\")"
   ]
  },
  {
   "cell_type": "markdown",
   "id": "a95703c9",
   "metadata": {},
   "source": [
    "Null-cross interference!"
   ]
  },
  {
   "cell_type": "markdown",
   "id": "a016d60d",
   "metadata": {},
   "source": [
    "__ESPRIT with spatial smoothing and forward-backward averag__"
   ]
  },
  {
   "cell_type": "code",
   "execution_count": 17,
   "id": "60deab67",
   "metadata": {},
   "outputs": [
    {
     "name": "stdout",
     "output_type": "stream",
     "text": [
      "True DOAs: [-40, 20, 40]\n",
      "Estimated DOAs (FBSS-ESPRIT): [-40.11  20.02  39.99]\n"
     ]
    }
   ],
   "source": [
    "# Estimate DOA using ESPRIT with FrFT\n",
    "estimated_doas = DoA.esprit_frft(tt,received_signals,mo,qOP,d,aOP,Lsub,op,align,c)\n",
    "doa_esprit = np.sort(np.degrees(estimated_doas))\n",
    "# Display Results\n",
    "print(f\"True DOAs: {doa_list}\")\n",
    "print(f\"Estimated DOAs (FBSS-ESPRIT): {np.round(doa_esprit,2)}\")"
   ]
  }
 ],
 "metadata": {
  "kernelspec": {
   "display_name": "Python 3 (ipykernel)",
   "language": "python",
   "name": "python3"
  },
  "language_info": {
   "codemirror_mode": {
    "name": "ipython",
    "version": 3
   },
   "file_extension": ".py",
   "mimetype": "text/x-python",
   "name": "python",
   "nbconvert_exporter": "python",
   "pygments_lexer": "ipython3",
   "version": "3.9.7"
  }
 },
 "nbformat": 4,
 "nbformat_minor": 5
}
